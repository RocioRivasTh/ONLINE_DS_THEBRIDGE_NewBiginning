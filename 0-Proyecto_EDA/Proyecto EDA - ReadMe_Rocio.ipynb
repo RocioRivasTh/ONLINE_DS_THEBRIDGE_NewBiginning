{
 "cells": [
  {
   "cell_type": "markdown",
   "id": "c9664b3f-d523-49c9-b8f4-85761fa963cd",
   "metadata": {},
   "source": [
    "## Proyecto EDA - Nivel de Adaptabilidad de los Estudiantes en la Educación Online\n",
    "# 1: Carga y Preparación de Datos\n",
    "- Carga de Datos\n",
    "- Inspección del dataset: Verifico la cantidad de registros, las columnas y los primeros valores para identificar cualquier valor nulo, tipo de dato incorrecto o inconsistencias.\n",
    "\n",
    "1. Limpieza y Preprocesamiento:\n",
    "- Eliminar o imputar valores nulos.\n",
    "- Revisar si las columnas categóricas están correctamente etiquetadas.\n",
    "- Conversión de tipos de datos.\n",
    "\n",
    "# 2: Análisis Exploratorio de los Datos\n",
    "1. Distribución de las variables numéricas:\n",
    "- Genero histogramas para ver cómo se distribuyen variables como Edad y Nivel de Adaptabilidad.\n",
    "\n",
    "2. Correlaciones:\n",
    "- Ver cómo las variables numéricas se relacionan entre sí. (por ejemplo, carga de trabajo academico vs nivel de adaptabilidad).\n",
    "  \n",
    "3. Análisis de variables categóricas:\n",
    "- Realizo un análisis de frecuencia para variables como Género, Nivel Academico y estado emocional y financiero."
   ]
  },
  {
   "cell_type": "markdown",
   "id": "78cbd705-35d1-4ee2-b74e-800d37d5cd35",
   "metadata": {},
   "source": [
    "# 3: Hipótesis y Preguntas\n",
    "El EDA se centra en entender los factores que influyen en la capacidad de los estudiantes para adaptarse al entorno educativo en línea. Incluye características como edad, género, estado emocional y nivel académico, que permiten explorar cómo cada una de estas variables afecta la adaptabilidad. \n",
    "\n",
    "- ¿Qué factores tienen la mayor correlación con la adaptabilidad de los estudiantes?\n",
    "- ¿Existen diferencias significativas en la adaptabilidad según género, nivel académico o edad\n",
    "- ¿Cómo impacta el estado emocional de los estudiantes en su capacidad para adaptarse al entorno en línea?\n",
    "- ¿Qué combinaciones de factores contribuyen a niveles altos o bajos de adaptabilidad?"
   ]
  },
  {
   "cell_type": "markdown",
   "id": "a79850ec-3708-4c20-bd0b-18f8db4fca88",
   "metadata": {},
   "source": [
    "# 4: Visualización de los Resultados\n",
    "Después de analizar y limpiar los datos, creo visualizaciones:\n",
    "\n",
    "1. Histogramas para mostrar distribuciones de variables numéricas.\n",
    "2. Boxplots para comparar el nivel de adaptabilidad entre grupos (por ejemplo, entre géneros o diferentes niveles educativos).\n",
    "\n",
    "# 5: Conclusiones y Recomendaciones\n",
    "Finalmente, con base en los resultados obtenidos, puedo concluir si hay patrones o relaciones significativas entre las variables. Además realizo recomendaciones para mejorar la educación online, como por ejemplo, programas de formación para mejorar la adaptabilidad."
   ]
  },
  {
   "cell_type": "markdown",
   "id": "937e14ac-a5ac-4bf6-9ae0-f597195d7447",
   "metadata": {},
   "source": [
    "Presentación: https://view.genially.com/6761c4fde1e3bc9ee0ba7b5f  "
   ]
  },
  {
   "cell_type": "code",
   "execution_count": null,
   "id": "06596285-e618-4717-bbc0-8e3c8b7cf3ca",
   "metadata": {},
   "outputs": [],
   "source": []
  }
 ],
 "metadata": {
  "kernelspec": {
   "display_name": "Python 3 (ipykernel)",
   "language": "python",
   "name": "python3"
  },
  "language_info": {
   "codemirror_mode": {
    "name": "ipython",
    "version": 3
   },
   "file_extension": ".py",
   "mimetype": "text/x-python",
   "name": "python",
   "nbconvert_exporter": "python",
   "pygments_lexer": "ipython3",
   "version": "3.8.10"
  }
 },
 "nbformat": 4,
 "nbformat_minor": 5
}
