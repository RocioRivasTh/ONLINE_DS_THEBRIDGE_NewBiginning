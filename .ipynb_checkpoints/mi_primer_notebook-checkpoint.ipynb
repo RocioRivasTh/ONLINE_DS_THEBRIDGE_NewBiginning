{
 "cells": [
  {
   "cell_type": "code",
   "execution_count": 1,
   "id": "d746d6b6-5d19-47d2-80d8-e1bb395d9b97",
   "metadata": {},
   "outputs": [
    {
     "name": "stdout",
     "output_type": "stream",
     "text": [
      "Hola Mundo\n"
     ]
    }
   ],
   "source": [
    "print(\"Hola Mundo\")"
   ]
  },
  {
   "cell_type": "markdown",
   "id": "e81ae7e8-e317-44ee-b9a9-ec26a8faa7ec",
   "metadata": {},
   "source": [
    "Hola Mundo"
   ]
  },
  {
   "cell_type": "code",
   "execution_count": null,
   "id": "9f863f73-76f2-40d5-9901-f9d4bd1c7881",
   "metadata": {},
   "outputs": [],
   "source": []
  }
 ],
 "metadata": {
  "kernelspec": {
   "display_name": "Python 3 (ipykernel)",
   "language": "python",
   "name": "python3"
  },
  "language_info": {
   "codemirror_mode": {
    "name": "ipython",
    "version": 3
   },
   "file_extension": ".py",
   "mimetype": "text/x-python",
   "name": "python",
   "nbconvert_exporter": "python",
   "pygments_lexer": "ipython3",
   "version": "3.12.6"
  }
 },
 "nbformat": 4,
 "nbformat_minor": 5
}
